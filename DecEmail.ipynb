{
 "cells": [
  {
   "cell_type": "code",
   "execution_count": 1,
   "id": "054ece89",
   "metadata": {},
   "outputs": [],
   "source": [
    "import pandas as pd"
   ]
  },
  {
   "cell_type": "code",
   "execution_count": 2,
   "id": "7d64799c",
   "metadata": {},
   "outputs": [
    {
     "name": "stdout",
     "output_type": "stream",
     "text": [
      "Defaulting to user installation because normal site-packages is not writeable\n",
      "Requirement already satisfied: underthesea in c:\\users\\trung\\appdata\\roaming\\python\\python39\\site-packages (1.3.5)\n",
      "Requirement already satisfied: Click>=6.0 in c:\\programdata\\anaconda3\\lib\\site-packages (from underthesea) (8.0.4)\n",
      "Requirement already satisfied: PyYAML in c:\\programdata\\anaconda3\\lib\\site-packages (from underthesea) (6.0)\n",
      "Requirement already satisfied: unidecode in c:\\programdata\\anaconda3\\lib\\site-packages (from underthesea) (1.2.0)\n",
      "Requirement already satisfied: nltk in c:\\programdata\\anaconda3\\lib\\site-packages (from underthesea) (3.7)\n",
      "Requirement already satisfied: underthesea-core==0.0.5a2 in c:\\users\\trung\\appdata\\roaming\\python\\python39\\site-packages (from underthesea) (0.0.5a2)\n",
      "Requirement already satisfied: scikit-learn in c:\\programdata\\anaconda3\\lib\\site-packages (from underthesea) (1.0.2)\n",
      "Requirement already satisfied: requests in c:\\users\\trung\\appdata\\roaming\\python\\python39\\site-packages (from underthesea) (2.28.1)\n",
      "Requirement already satisfied: python-crfsuite>=0.9.6 in c:\\users\\trung\\appdata\\roaming\\python\\python39\\site-packages (from underthesea) (0.9.8)\n",
      "Requirement already satisfied: joblib in c:\\users\\trung\\appdata\\roaming\\python\\python39\\site-packages (from underthesea) (1.2.0)\n",
      "Requirement already satisfied: tqdm in c:\\programdata\\anaconda3\\lib\\site-packages (from underthesea) (4.64.1)\n",
      "Requirement already satisfied: colorama in c:\\users\\trung\\appdata\\roaming\\python\\python39\\site-packages (from Click>=6.0->underthesea) (0.4.6)\n",
      "Requirement already satisfied: regex>=2021.8.3 in c:\\programdata\\anaconda3\\lib\\site-packages (from nltk->underthesea) (2022.7.9)\n",
      "Requirement already satisfied: certifi>=2017.4.17 in c:\\users\\trung\\appdata\\roaming\\python\\python39\\site-packages (from requests->underthesea) (2022.6.15.1)\n",
      "Requirement already satisfied: charset-normalizer<3,>=2 in c:\\users\\trung\\appdata\\roaming\\python\\python39\\site-packages (from requests->underthesea) (2.1.1)\n",
      "Requirement already satisfied: urllib3<1.27,>=1.21.1 in c:\\users\\trung\\appdata\\roaming\\python\\python39\\site-packages (from requests->underthesea) (1.26.12)\n",
      "Requirement already satisfied: idna<4,>=2.5 in c:\\users\\trung\\appdata\\roaming\\python\\python39\\site-packages (from requests->underthesea) (3.3)\n",
      "Requirement already satisfied: numpy>=1.14.6 in c:\\users\\trung\\appdata\\roaming\\python\\python39\\site-packages (from scikit-learn->underthesea) (1.22.3)\n",
      "Requirement already satisfied: threadpoolctl>=2.0.0 in c:\\programdata\\anaconda3\\lib\\site-packages (from scikit-learn->underthesea) (2.2.0)\n",
      "Requirement already satisfied: scipy>=1.1.0 in c:\\users\\trung\\appdata\\roaming\\python\\python39\\site-packages (from scikit-learn->underthesea) (1.9.2)\n"
     ]
    }
   ],
   "source": [
    "!pip install underthesea"
   ]
  },
  {
   "cell_type": "code",
   "execution_count": 3,
   "id": "cede8b93",
   "metadata": {},
   "outputs": [],
   "source": [
    "data = pd.read_csv(\"email.csv\")"
   ]
  },
  {
   "cell_type": "code",
   "execution_count": 4,
   "id": "5399e5d2",
   "metadata": {},
   "outputs": [],
   "source": [
    "data.fillna(0, inplace=True)"
   ]
  },
  {
   "cell_type": "code",
   "execution_count": 5,
   "id": "2246e74b",
   "metadata": {},
   "outputs": [
    {
     "data": {
      "text/html": [
       "<div>\n",
       "<style scoped>\n",
       "    .dataframe tbody tr th:only-of-type {\n",
       "        vertical-align: middle;\n",
       "    }\n",
       "\n",
       "    .dataframe tbody tr th {\n",
       "        vertical-align: top;\n",
       "    }\n",
       "\n",
       "    .dataframe thead th {\n",
       "        text-align: right;\n",
       "    }\n",
       "</style>\n",
       "<table border=\"1\" class=\"dataframe\">\n",
       "  <thead>\n",
       "    <tr style=\"text-align: right;\">\n",
       "      <th></th>\n",
       "      <th>text</th>\n",
       "      <th>status</th>\n",
       "    </tr>\n",
       "  </thead>\n",
       "  <tbody>\n",
       "    <tr>\n",
       "      <th>0</th>\n",
       "      <td>Chủ đề: một cách tự nhiên không thể cưỡng lại ...</td>\n",
       "      <td>1</td>\n",
       "    </tr>\n",
       "    <tr>\n",
       "      <th>1</th>\n",
       "      <td>Chủ đề: tay súng giao dịch chứng khoán fanny v...</td>\n",
       "      <td>1</td>\n",
       "    </tr>\n",
       "    <tr>\n",
       "      <th>2</th>\n",
       "      <td>Chủ đề: những ngôi nhà mới không thể tin được ...</td>\n",
       "      <td>1</td>\n",
       "    </tr>\n",
       "    <tr>\n",
       "      <th>3</th>\n",
       "      <td>Chủ đề: In 4 màu yêu cầu thêm thông tin đặc b...</td>\n",
       "      <td>1</td>\n",
       "    </tr>\n",
       "    <tr>\n",
       "      <th>4</th>\n",
       "      <td>Chủ đề: không có tiền , lấy CD phần mềm từ đây...</td>\n",
       "      <td>1</td>\n",
       "    </tr>\n",
       "  </tbody>\n",
       "</table>\n",
       "</div>"
      ],
      "text/plain": [
       "                                                text  status\n",
       "0  Chủ đề: một cách tự nhiên không thể cưỡng lại ...       1\n",
       "1  Chủ đề: tay súng giao dịch chứng khoán fanny v...       1\n",
       "2  Chủ đề: những ngôi nhà mới không thể tin được ...       1\n",
       "3   Chủ đề: In 4 màu yêu cầu thêm thông tin đặc b...       1\n",
       "4  Chủ đề: không có tiền , lấy CD phần mềm từ đây...       1"
      ]
     },
     "execution_count": 5,
     "metadata": {},
     "output_type": "execute_result"
    }
   ],
   "source": [
    "data.head(5)"
   ]
  },
  {
   "cell_type": "code",
   "execution_count": 6,
   "id": "5c139a04",
   "metadata": {},
   "outputs": [
    {
     "data": {
      "text/plain": [
       "0    4399\n",
       "1    1375\n",
       "Name: status, dtype: int64"
      ]
     },
     "execution_count": 6,
     "metadata": {},
     "output_type": "execute_result"
    }
   ],
   "source": [
    "data['status'].value_counts()"
   ]
  },
  {
   "cell_type": "code",
   "execution_count": 7,
   "id": "d8703a48",
   "metadata": {},
   "outputs": [],
   "source": [
    "data.drop_duplicates(inplace = True)"
   ]
  },
  {
   "cell_type": "code",
   "execution_count": 8,
   "id": "592879b7",
   "metadata": {},
   "outputs": [
    {
     "data": {
      "text/plain": [
       "text      0\n",
       "status    0\n",
       "dtype: int64"
      ]
     },
     "execution_count": 8,
     "metadata": {},
     "output_type": "execute_result"
    }
   ],
   "source": [
    "data.isnull().sum()"
   ]
  },
  {
   "cell_type": "code",
   "execution_count": 9,
   "id": "a2e01ffb",
   "metadata": {},
   "outputs": [
    {
     "data": {
      "text/plain": [
       "0    4207\n",
       "1    1372\n",
       "Name: status, dtype: int64"
      ]
     },
     "execution_count": 9,
     "metadata": {},
     "output_type": "execute_result"
    }
   ],
   "source": [
    "data['status'].value_counts()"
   ]
  },
  {
   "cell_type": "code",
   "execution_count": 10,
   "id": "a42caafc",
   "metadata": {},
   "outputs": [
    {
     "data": {
      "text/plain": [
       "5579"
      ]
     },
     "execution_count": 10,
     "metadata": {},
     "output_type": "execute_result"
    }
   ],
   "source": [
    "len(data)"
   ]
  },
  {
   "cell_type": "code",
   "execution_count": 11,
   "id": "67b2f2cc",
   "metadata": {},
   "outputs": [],
   "source": [
    "df = pd.read_csv('vietnamese-stopwords.txt')"
   ]
  },
  {
   "cell_type": "code",
   "execution_count": 12,
   "id": "e1d60ff0",
   "metadata": {},
   "outputs": [
    {
     "data": {
      "text/html": [
       "<div>\n",
       "<style scoped>\n",
       "    .dataframe tbody tr th:only-of-type {\n",
       "        vertical-align: middle;\n",
       "    }\n",
       "\n",
       "    .dataframe tbody tr th {\n",
       "        vertical-align: top;\n",
       "    }\n",
       "\n",
       "    .dataframe thead th {\n",
       "        text-align: right;\n",
       "    }\n",
       "</style>\n",
       "<table border=\"1\" class=\"dataframe\">\n",
       "  <thead>\n",
       "    <tr style=\"text-align: right;\">\n",
       "      <th></th>\n",
       "      <th>a lô</th>\n",
       "    </tr>\n",
       "  </thead>\n",
       "  <tbody>\n",
       "    <tr>\n",
       "      <th>0</th>\n",
       "      <td>a ha</td>\n",
       "    </tr>\n",
       "    <tr>\n",
       "      <th>1</th>\n",
       "      <td>ai</td>\n",
       "    </tr>\n",
       "    <tr>\n",
       "      <th>2</th>\n",
       "      <td>ai ai</td>\n",
       "    </tr>\n",
       "    <tr>\n",
       "      <th>3</th>\n",
       "      <td>ai nấy</td>\n",
       "    </tr>\n",
       "    <tr>\n",
       "      <th>4</th>\n",
       "      <td>ai đó</td>\n",
       "    </tr>\n",
       "    <tr>\n",
       "      <th>...</th>\n",
       "      <td>...</td>\n",
       "    </tr>\n",
       "    <tr>\n",
       "      <th>1936</th>\n",
       "      <td>ừ nhé</td>\n",
       "    </tr>\n",
       "    <tr>\n",
       "      <th>1937</th>\n",
       "      <td>ừ thì</td>\n",
       "    </tr>\n",
       "    <tr>\n",
       "      <th>1938</th>\n",
       "      <td>ừ ào</td>\n",
       "    </tr>\n",
       "    <tr>\n",
       "      <th>1939</th>\n",
       "      <td>ừ ừ</td>\n",
       "    </tr>\n",
       "    <tr>\n",
       "      <th>1940</th>\n",
       "      <td>ử</td>\n",
       "    </tr>\n",
       "  </tbody>\n",
       "</table>\n",
       "<p>1941 rows × 1 columns</p>\n",
       "</div>"
      ],
      "text/plain": [
       "        a lô\n",
       "0       a ha\n",
       "1         ai\n",
       "2      ai ai\n",
       "3     ai nấy\n",
       "4      ai đó\n",
       "...      ...\n",
       "1936   ừ nhé\n",
       "1937   ừ thì\n",
       "1938    ừ ào\n",
       "1939     ừ ừ\n",
       "1940       ử\n",
       "\n",
       "[1941 rows x 1 columns]"
      ]
     },
     "execution_count": 12,
     "metadata": {},
     "output_type": "execute_result"
    }
   ],
   "source": [
    "df"
   ]
  },
  {
   "cell_type": "code",
   "execution_count": 13,
   "id": "78ad2d32",
   "metadata": {},
   "outputs": [],
   "source": [
    "from underthesea import text_normalize"
   ]
  },
  {
   "cell_type": "code",
   "execution_count": 14,
   "id": "24a96cb9",
   "metadata": {},
   "outputs": [],
   "source": [
    "from underthesea import word_tokenize"
   ]
  },
  {
   "cell_type": "code",
   "execution_count": 15,
   "id": "7f5d5681",
   "metadata": {},
   "outputs": [],
   "source": [
    "import string"
   ]
  },
  {
   "cell_type": "code",
   "execution_count": 16,
   "id": "9b521854",
   "metadata": {},
   "outputs": [],
   "source": [
    "def get_stopwords_list(stop_file_path):\n",
    "    with open(stop_file_path, 'r', encoding=\"utf-8\") as f:\n",
    "        stopwords = f.readlines()\n",
    "        stop_set = set(m.strip() for m in stopwords)\n",
    "        return list(frozenset(stop_set))"
   ]
  },
  {
   "cell_type": "code",
   "execution_count": 17,
   "id": "fa78f740",
   "metadata": {},
   "outputs": [],
   "source": [
    "def clean_text(text):\n",
    "    result = []\n",
    "    text = text.lower()\n",
    "    text1 = text_normalize(text)\n",
    "    text2 = word_tokenize(text1)\n",
    "    stopwords_path = \"vietnamese-stopwords.txt\"\n",
    "    stopwords = get_stopwords_list(stopwords_path)\n",
    "    for i in text2:\n",
    "        if i not in stopwords and i not in string.punctuation:\n",
    "            result.append(i)\n",
    "    return \" \".join(result)"
   ]
  },
  {
   "cell_type": "code",
   "execution_count": 18,
   "id": "6d03d339",
   "metadata": {},
   "outputs": [],
   "source": [
    "data['clean_text'] = data['text'].apply(clean_text)"
   ]
  },
  {
   "cell_type": "code",
   "execution_count": 19,
   "id": "fcb86a9a",
   "metadata": {},
   "outputs": [
    {
     "data": {
      "text/html": [
       "<div>\n",
       "<style scoped>\n",
       "    .dataframe tbody tr th:only-of-type {\n",
       "        vertical-align: middle;\n",
       "    }\n",
       "\n",
       "    .dataframe tbody tr th {\n",
       "        vertical-align: top;\n",
       "    }\n",
       "\n",
       "    .dataframe thead th {\n",
       "        text-align: right;\n",
       "    }\n",
       "</style>\n",
       "<table border=\"1\" class=\"dataframe\">\n",
       "  <thead>\n",
       "    <tr style=\"text-align: right;\">\n",
       "      <th></th>\n",
       "      <th>text</th>\n",
       "      <th>status</th>\n",
       "      <th>clean_text</th>\n",
       "    </tr>\n",
       "  </thead>\n",
       "  <tbody>\n",
       "    <tr>\n",
       "      <th>0</th>\n",
       "      <td>Chủ đề: một cách tự nhiên không thể cưỡng lại ...</td>\n",
       "      <td>1</td>\n",
       "      <td>chủ đề tự nhiên cưỡng bản sắc công ty công ty ...</td>\n",
       "    </tr>\n",
       "    <tr>\n",
       "      <th>1</th>\n",
       "      <td>Chủ đề: tay súng giao dịch chứng khoán fanny v...</td>\n",
       "      <td>1</td>\n",
       "      <td>chủ đề súng giao dịch chứng khoán fanny vui vẻ...</td>\n",
       "    </tr>\n",
       "    <tr>\n",
       "      <th>2</th>\n",
       "      <td>Chủ đề: những ngôi nhà mới không thể tin được ...</td>\n",
       "      <td>1</td>\n",
       "      <td>chủ đề trở nên dễ dàng chủ chấp thuận khoản va...</td>\n",
       "    </tr>\n",
       "    <tr>\n",
       "      <th>3</th>\n",
       "      <td>Chủ đề: In 4 màu yêu cầu thêm thông tin đặc b...</td>\n",
       "      <td>1</td>\n",
       "      <td>chủ đề in 4 màu thông tin bấm bấm phiên bản in...</td>\n",
       "    </tr>\n",
       "    <tr>\n",
       "      <th>4</th>\n",
       "      <td>Chủ đề: không có tiền , lấy CD phần mềm từ đây...</td>\n",
       "      <td>1</td>\n",
       "      <td>chủ đề tiền cd phần mềm khả năng tương thích p...</td>\n",
       "    </tr>\n",
       "  </tbody>\n",
       "</table>\n",
       "</div>"
      ],
      "text/plain": [
       "                                                text  status  \\\n",
       "0  Chủ đề: một cách tự nhiên không thể cưỡng lại ...       1   \n",
       "1  Chủ đề: tay súng giao dịch chứng khoán fanny v...       1   \n",
       "2  Chủ đề: những ngôi nhà mới không thể tin được ...       1   \n",
       "3   Chủ đề: In 4 màu yêu cầu thêm thông tin đặc b...       1   \n",
       "4  Chủ đề: không có tiền , lấy CD phần mềm từ đây...       1   \n",
       "\n",
       "                                          clean_text  \n",
       "0  chủ đề tự nhiên cưỡng bản sắc công ty công ty ...  \n",
       "1  chủ đề súng giao dịch chứng khoán fanny vui vẻ...  \n",
       "2  chủ đề trở nên dễ dàng chủ chấp thuận khoản va...  \n",
       "3  chủ đề in 4 màu thông tin bấm bấm phiên bản in...  \n",
       "4  chủ đề tiền cd phần mềm khả năng tương thích p...  "
      ]
     },
     "execution_count": 19,
     "metadata": {},
     "output_type": "execute_result"
    }
   ],
   "source": [
    "data.head()"
   ]
  },
  {
   "cell_type": "code",
   "execution_count": 20,
   "id": "9d553c1d",
   "metadata": {},
   "outputs": [],
   "source": [
    "x = data.clean_text.values"
   ]
  },
  {
   "cell_type": "code",
   "execution_count": 21,
   "id": "2b5ff1ea",
   "metadata": {},
   "outputs": [],
   "source": [
    "y = data.status.values"
   ]
  },
  {
   "cell_type": "code",
   "execution_count": 22,
   "id": "1a2ab9b5",
   "metadata": {},
   "outputs": [
    {
     "data": {
      "text/plain": [
       "array(['chủ đề tự nhiên cưỡng bản sắc công ty công ty thị trường đầy rẫy đề xuất thông tin áp đảo logo hấp dẫn trang web nổi bật trang web nổi bật công việc trở nên dễ dàng hứa havinq đặt hàng iogo công ty tự động dẫn đầu thế giới sản phẩm tổ chức kinh doanh hiệu quả mục tiêu khả thi công ty trở nên nóng bỏng thị trường hứa nỗ lực tiếp thị trở nên hiệu quả danh sách lợi ích rõ ràng sáng tạo logo gốc thủ công phản ánh hình ảnh công ty tiện lợi logo văn phòng phẩm cung cấp định dạng hệ thống quản lý nội dung cho phép nội dung trang web cấu trúc nhanh chóng bản nháp logo vòng làm việc khả năng chi trả đột phá tiếp thị khoảng trống ngân sách hài lòng 100 % cung cấp số lượng giới hạn phí kết quả hợp tác danh mục đầu tư _ _ _ _ _ _ _ _ _ _ _ _ _ _ _ _ _ _ _ _ _ _ _ _ _ _ _ _ _ _ _ _ _ _ _ _ _ _ _ _ _ _ _ _ _ _ _ . _ _ _ _ _ _ _ _ _ _ _ _ _ _ _ _ _ _ _ _ _ _ _ _ _ _ _ _ _ _ _ _ _ _ _ _ _ _ _ _ _ _ _ _ _',\n",
       "       'chủ đề súng giao dịch chứng khoán fanny vui vẻ muzo colza áp chót esmark lan man segovia thử slung kansas tanzania tắc kè hoa mặc quần áo liên tục libretto chesapeake chặt chẽ báo đường thủy táo gai đục morristown deoxyribonucleic đồng hồ thử hội trường kinh ngạc mcdougall hepburn dấu ấn einstein non heo rừng duane palfrey đơn giản linh hoạt huzzah pepperoni đi ngủ trang phục thử chỉnh sửa tối ưu pirogue khuếch tán mặc dù',\n",
       "       'chủ đề trở nên dễ dàng chủ chấp thuận khoản vay mua trị giá 454.169 đô la lãi suất 3 72 tỷ lệ cố định . phiếu mua hàng mở rộng vô tín dụng yếu tố tận dụng có hạn truy cập trang web hoàn thành biểu mẫu phê duyệt đăng 1 phút mong phản hồi dorcas pittman',\n",
       "       ...,\n",
       "       'thông báo lớp học phần kinh tế chính trị mác lênin 4 thông báo 4 19/10 2022 lớp thi kỳ học phần ktct mác lênin chia 2 thi 1 đầu danh sách long ẩn thứ tự 35 phước mười 15 h 15 h20 2',\n",
       "       'thông báo lớp chuyên đề 5 it 4 _phân tích dữ liệu doanh nghiệp đăng ký',\n",
       "       'gấp 🎉 🎉 🎉 19 it2 hoàn thành giúp đọc mail f0 f1 điền link https://docs.google.com/spreadsheets/d/1wfelhrjwqx7jx1ygf2z5dwhb91g5h59_gaoc1j2ellk/edit?usp=sharinglưu f1 5 triệu chứng t'],\n",
       "      dtype=object)"
      ]
     },
     "execution_count": 22,
     "metadata": {},
     "output_type": "execute_result"
    }
   ],
   "source": [
    "x"
   ]
  },
  {
   "cell_type": "code",
   "execution_count": 23,
   "id": "331cbd9e",
   "metadata": {},
   "outputs": [
    {
     "data": {
      "text/plain": [
       "array([1, 1, 1, ..., 0, 0, 0], dtype=int64)"
      ]
     },
     "execution_count": 23,
     "metadata": {},
     "output_type": "execute_result"
    }
   ],
   "source": [
    "y"
   ]
  },
  {
   "cell_type": "code",
   "execution_count": 24,
   "id": "35c59ae8",
   "metadata": {},
   "outputs": [],
   "source": [
    "from sklearn.model_selection import train_test_split"
   ]
  },
  {
   "cell_type": "code",
   "execution_count": 25,
   "id": "cb6c45e9",
   "metadata": {},
   "outputs": [],
   "source": [
    "X_train,X_test,Y_train,Y_test = train_test_split(x, y, test_size= 0.33, random_state=42)"
   ]
  },
  {
   "cell_type": "code",
   "execution_count": 26,
   "id": "f6be9ec3",
   "metadata": {},
   "outputs": [],
   "source": [
    "from sklearn.feature_extraction.text import CountVectorizer"
   ]
  },
  {
   "cell_type": "code",
   "execution_count": 27,
   "id": "5d5efda9",
   "metadata": {},
   "outputs": [],
   "source": [
    "countvector = CountVectorizer()"
   ]
  },
  {
   "cell_type": "code",
   "execution_count": 28,
   "id": "ed7f233c",
   "metadata": {},
   "outputs": [],
   "source": [
    "Xtrain = countvector.fit_transform(X_train).toarray()"
   ]
  },
  {
   "cell_type": "code",
   "execution_count": 29,
   "id": "0f2d73f3",
   "metadata": {},
   "outputs": [
    {
     "data": {
      "text/plain": [
       "array([[0, 0, 0, ..., 0, 0, 0],\n",
       "       [1, 0, 0, ..., 0, 0, 0],\n",
       "       [0, 0, 0, ..., 0, 1, 0],\n",
       "       ...,\n",
       "       [0, 0, 0, ..., 0, 1, 0],\n",
       "       [0, 5, 0, ..., 0, 0, 0],\n",
       "       [0, 0, 0, ..., 0, 0, 0]], dtype=int64)"
      ]
     },
     "execution_count": 29,
     "metadata": {},
     "output_type": "execute_result"
    }
   ],
   "source": [
    "Xtrain"
   ]
  },
  {
   "cell_type": "code",
   "execution_count": 30,
   "id": "9e1575ac",
   "metadata": {},
   "outputs": [],
   "source": [
    "from sklearn.naive_bayes import MultinomialNB"
   ]
  },
  {
   "cell_type": "code",
   "execution_count": 31,
   "id": "a74cea30",
   "metadata": {},
   "outputs": [],
   "source": [
    "model = MultinomialNB()"
   ]
  },
  {
   "cell_type": "code",
   "execution_count": 32,
   "id": "c258918c",
   "metadata": {},
   "outputs": [],
   "source": [
    "from sklearn.metrics import classification_report"
   ]
  },
  {
   "cell_type": "code",
   "execution_count": 33,
   "id": "6e2e7061",
   "metadata": {},
   "outputs": [
    {
     "name": "stdout",
     "output_type": "stream",
     "text": [
      "              precision    recall  f1-score   support\n",
      "\n",
      "           0       0.99      0.98      0.99      1360\n",
      "           1       0.94      0.98      0.96       482\n",
      "\n",
      "    accuracy                           0.98      1842\n",
      "   macro avg       0.97      0.98      0.97      1842\n",
      "weighted avg       0.98      0.98      0.98      1842\n",
      "\n"
     ]
    }
   ],
   "source": [
    "model.fit(Xtrain, Y_train)\n",
    "Xtest = countvector.transform(X_test)\n",
    "y_pred = model.predict(Xtest)\n",
    "print(classification_report(Y_test, y_pred))"
   ]
  },
  {
   "cell_type": "code",
   "execution_count": 34,
   "id": "78de6235",
   "metadata": {},
   "outputs": [
    {
     "data": {
      "text/plain": [
       "0.9793702497285559"
      ]
     },
     "execution_count": 34,
     "metadata": {},
     "output_type": "execute_result"
    }
   ],
   "source": [
    "model.score(Xtest, Y_test)"
   ]
  },
  {
   "cell_type": "code",
   "execution_count": 35,
   "id": "34c8a530",
   "metadata": {},
   "outputs": [],
   "source": [
    "import pickle"
   ]
  },
  {
   "cell_type": "code",
   "execution_count": 36,
   "id": "ee665f26",
   "metadata": {},
   "outputs": [],
   "source": [
    "pickle.dump(model, open(\"spam.pkl\", \"wb\"))"
   ]
  },
  {
   "cell_type": "code",
   "execution_count": 37,
   "id": "03ed792f",
   "metadata": {},
   "outputs": [],
   "source": [
    "pickle.dump(countvector, open(\"vectorizer.pkl\", \"wb\"))"
   ]
  },
  {
   "cell_type": "code",
   "execution_count": 38,
   "id": "2e24e541",
   "metadata": {},
   "outputs": [],
   "source": [
    "clf = pickle.load(open(\"spam.pkl\", \"rb\"))"
   ]
  },
  {
   "cell_type": "code",
   "execution_count": 39,
   "id": "3cdc1d82",
   "metadata": {},
   "outputs": [
    {
     "data": {
      "text/plain": [
       "MultinomialNB()"
      ]
     },
     "execution_count": 39,
     "metadata": {},
     "output_type": "execute_result"
    }
   ],
   "source": [
    "clf"
   ]
  },
  {
   "cell_type": "code",
   "execution_count": 41,
   "id": "375cb685",
   "metadata": {},
   "outputs": [
    {
     "name": "stdout",
     "output_type": "stream",
     "text": [
      "[0]\n"
     ]
    }
   ],
   "source": [
    "str = \"Thông báo cho lớp Chuyên đề 5 (IT) (4)_Phân tích dữ liệu (doanh nghiệp) đăng kí nhóm tại đây\"\n",
    "dataa=[str]\n",
    "vect = countvector.transform(dataa)\n",
    "results=model.predict(vect)\n",
    "print(results)"
   ]
  },
  {
   "cell_type": "code",
   "execution_count": null,
   "id": "3f0a5fed",
   "metadata": {},
   "outputs": [],
   "source": []
  }
 ],
 "metadata": {
  "kernelspec": {
   "display_name": "Python 3 (ipykernel)",
   "language": "python",
   "name": "python3"
  },
  "language_info": {
   "codemirror_mode": {
    "name": "ipython",
    "version": 3
   },
   "file_extension": ".py",
   "mimetype": "text/x-python",
   "name": "python",
   "nbconvert_exporter": "python",
   "pygments_lexer": "ipython3",
   "version": "3.9.13"
  }
 },
 "nbformat": 4,
 "nbformat_minor": 5
}
